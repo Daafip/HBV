{
 "cells": [
  {
   "cell_type": "code",
   "execution_count": 3,
   "id": "63cbf698-0157-4fb9-a294-0fba3b4de43e",
   "metadata": {},
   "outputs": [],
   "source": [
    "import grpc\n",
    "from grpc4bmi.bmi_grpc_client import BmiClient\n",
    "\n",
    "mymodel = BmiClient(grpc.insecure_channel(\"localhost:55555\"))"
   ]
  },
  {
   "cell_type": "code",
   "execution_count": 4,
   "id": "dee0475c-7e20-4096-9b0d-8a2e84980e81",
   "metadata": {},
   "outputs": [
    {
     "data": {
      "text/plain": [
       "'HBV'"
      ]
     },
     "execution_count": 4,
     "metadata": {},
     "output_type": "execute_result"
    }
   ],
   "source": [
    "mymodel.get_component_name()"
   ]
  },
  {
   "cell_type": "code",
   "execution_count": 6,
   "id": "9f0ae88b-fb27-4900-bc01-789fb047f3eb",
   "metadata": {},
   "outputs": [
    {
     "name": "stderr",
     "output_type": "stream",
     "text": [
      "'docker' is not recognized as an internal or external command,\n",
      "operable program or batch file.\n"
     ]
    }
   ],
   "source": [
    "!docker build -t \"Dockerfile\""
   ]
  },
  {
   "cell_type": "code",
   "execution_count": 16,
   "id": "0499e3f9-e36e-461a-80ee-370d116e2277",
   "metadata": {},
   "outputs": [],
   "source": [
    "import docker"
   ]
  },
  {
   "cell_type": "code",
   "execution_count": 20,
   "id": "bd144fe1-0d67-40ab-9b77-88add8e1415e",
   "metadata": {},
   "outputs": [
    {
     "data": {
      "text/plain": [
       "['__class__',\n",
       " '__delattr__',\n",
       " '__dict__',\n",
       " '__dir__',\n",
       " '__doc__',\n",
       " '__eq__',\n",
       " '__format__',\n",
       " '__ge__',\n",
       " '__getattr__',\n",
       " '__getattribute__',\n",
       " '__getstate__',\n",
       " '__gt__',\n",
       " '__hash__',\n",
       " '__init__',\n",
       " '__init_subclass__',\n",
       " '__le__',\n",
       " '__lt__',\n",
       " '__module__',\n",
       " '__ne__',\n",
       " '__new__',\n",
       " '__reduce__',\n",
       " '__reduce_ex__',\n",
       " '__repr__',\n",
       " '__setattr__',\n",
       " '__sizeof__',\n",
       " '__str__',\n",
       " '__subclasshook__',\n",
       " '__weakref__',\n",
       " 'close',\n",
       " 'configs',\n",
       " 'containers',\n",
       " 'df',\n",
       " 'events',\n",
       " 'from_env',\n",
       " 'images',\n",
       " 'info',\n",
       " 'login',\n",
       " 'networks',\n",
       " 'nodes',\n",
       " 'ping',\n",
       " 'plugins',\n",
       " 'secrets',\n",
       " 'services',\n",
       " 'swarm',\n",
       " 'version',\n",
       " 'volumes']"
      ]
     },
     "execution_count": 20,
     "metadata": {},
     "output_type": "execute_result"
    }
   ],
   "source": [
    "dir(docker.DockerClient)"
   ]
  },
  {
   "cell_type": "code",
   "execution_count": null,
   "id": "610b7646-092c-4229-a26a-36a72434292e",
   "metadata": {},
   "outputs": [],
   "source": []
  }
 ],
 "metadata": {
  "kernelspec": {
   "display_name": "Python 3 (ipykernel)",
   "language": "python",
   "name": "python3"
  },
  "language_info": {
   "codemirror_mode": {
    "name": "ipython",
    "version": 3
   },
   "file_extension": ".py",
   "mimetype": "text/x-python",
   "name": "python",
   "nbconvert_exporter": "python",
   "pygments_lexer": "ipython3",
   "version": "3.12.0"
  }
 },
 "nbformat": 4,
 "nbformat_minor": 5
}
