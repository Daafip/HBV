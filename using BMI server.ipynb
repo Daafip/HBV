{
 "cells": [
  {
   "cell_type": "code",
   "execution_count": 1,
   "id": "63cbf698-0157-4fb9-a294-0fba3b4de43e",
   "metadata": {},
   "outputs": [],
   "source": [
    "import grpc\n",
    "from grpc4bmi.bmi_grpc_client import BmiClient\n",
    "\n",
    "mymodel = BmiClient(grpc.insecure_channel(\"localhost:55555\"))"
   ]
  },
  {
   "cell_type": "code",
   "execution_count": 2,
   "id": "dee0475c-7e20-4096-9b0d-8a2e84980e81",
   "metadata": {},
   "outputs": [
    {
     "data": {
      "text/plain": [
       "'HBV'"
      ]
     },
     "execution_count": 2,
     "metadata": {},
     "output_type": "execute_result"
    }
   ],
   "source": [
    "mymodel.get_component_name()"
   ]
  },
  {
   "cell_type": "code",
   "execution_count": null,
   "id": "9f0ae88b-fb27-4900-bc01-789fb047f3eb",
   "metadata": {},
   "outputs": [],
   "source": []
  }
 ],
 "metadata": {
  "kernelspec": {
   "display_name": "Python 3 (ipykernel)",
   "language": "python",
   "name": "python3"
  },
  "language_info": {
   "codemirror_mode": {
    "name": "ipython",
    "version": 3
   },
   "file_extension": ".py",
   "mimetype": "text/x-python",
   "name": "python",
   "nbconvert_exporter": "python",
   "pygments_lexer": "ipython3",
   "version": "3.12.0"
  }
 },
 "nbformat": 4,
 "nbformat_minor": 5
}
